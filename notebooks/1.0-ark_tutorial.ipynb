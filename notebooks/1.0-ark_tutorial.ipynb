{
 "cells": [
  {
   "cell_type": "markdown",
   "id": "introductory-queens",
   "metadata": {},
   "source": [
    "# NEU Surface Defect Tutorial\n",
    "In this notebook, we'll explore the NEU Surface Defect dataset. This dataset includes a total of 1800 grayscale images sized 200x200. The images feature 6 unique defect classes (300 images per defect). These defects are crazing (Cr), inclusions (In), patches (Pa), pitted surfaces (PS), rolled-in scale (RS), and scratches (Sc). \n",
    "\n",
    "We'll explore a few methods that might be useful in MSE applications. Many of us use image data of some kind; I hope this will be just the beginning of what you come up with!"
   ]
  },
  {
   "cell_type": "code",
   "execution_count": 1,
   "id": "electoral-enforcement",
   "metadata": {},
   "outputs": [],
   "source": [
    "from pathlib import Path\n",
    "import numpy as np\n",
    "import pandas as pd\n",
    "import matplotlib.pyplot as plt\n",
    "import sys\n",
    "\n",
    "from skimage.io import imread\n",
    "from sklearn.decomposition import PCA\n",
    "from sklearn.manifold import TSNE"
   ]
  },
  {
   "cell_type": "markdown",
   "id": "sacred-electronics",
   "metadata": {},
   "source": [
    "## Organize the Project\n",
    "First things first, we have to get all of our data accessible."
   ]
  },
  {
   "cell_type": "code",
   "execution_count": null,
   "id": "developmental-portugal",
   "metadata": {},
   "outputs": [],
   "source": []
  }
 ],
 "metadata": {
  "kernelspec": {
   "display_name": "Python 3",
   "language": "python",
   "name": "python3"
  },
  "language_info": {
   "codemirror_mode": {
    "name": "ipython",
    "version": 3
   },
   "file_extension": ".py",
   "mimetype": "text/x-python",
   "name": "python",
   "nbconvert_exporter": "python",
   "pygments_lexer": "ipython3",
   "version": "3.8.5"
  }
 },
 "nbformat": 4,
 "nbformat_minor": 5
}
